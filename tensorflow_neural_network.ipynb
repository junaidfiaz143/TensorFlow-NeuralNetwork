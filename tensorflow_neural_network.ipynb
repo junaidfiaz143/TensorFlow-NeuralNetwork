{
 "cells": [
  {
   "cell_type": "code",
   "execution_count": 1,
   "metadata": {},
   "outputs": [
    {
     "name": "stderr",
     "output_type": "stream",
     "text": [
      "C:\\Users\\jd\\Anaconda3\\lib\\site-packages\\h5py\\__init__.py:34: FutureWarning: Conversion of the second argument of issubdtype from `float` to `np.floating` is deprecated. In future, it will be treated as `np.float64 == np.dtype(float).type`.\n",
      "  from ._conv import register_converters as _register_converters\n"
     ]
    }
   ],
   "source": [
    "import tensorflow as tf\n",
    "import numpy as np\n",
    "import matplotlib.pyplot as plt"
   ]
  },
  {
   "cell_type": "code",
   "execution_count": 2,
   "metadata": {},
   "outputs": [
    {
     "name": "stdout",
     "output_type": "stream",
     "text": [
      "[-2.22984299 -1.92765068 -1.17474748 -1.85036543 -2.08365001 -1.32630915\n",
      " -2.29982574 -1.35964265 -1.19579722 -0.91787216 -1.86193513 -1.4545273\n",
      " -1.65319927 -1.61924423 -1.65588279 -1.5791314  -1.12317636 -0.99076244\n",
      " -1.40728227 -1.47534532 -0.64568896 -0.9025504  -1.51107606 -0.87734646\n",
      " -1.29522502 -0.85029292 -0.68711002 -1.31217957 -1.08615865 -0.60669484\n",
      " -0.61461141 -0.4946777  -0.47802936 -0.28128114 -0.94903709 -1.06879248\n",
      " -0.53765326 -0.89049472 -0.58097564 -0.88239943 -0.52500976 -0.50147285\n",
      " -0.55166071  0.20860312  0.36885307 -0.66238475  0.27158609 -0.00716916\n",
      " -0.86316391  0.27732796  0.42676251 -0.08795568 -0.57672047  0.33992293\n",
      " -0.1106021   0.13627453  0.04160039  0.30557054  0.75634329 -0.01464375\n",
      "  0.70921628  0.08155745  0.50980223 -0.11008965  0.55929374  0.49217237\n",
      "  1.2400833   0.56538787  0.73808264  0.87341652  1.49433667  0.69989812\n",
      "  0.55706602  1.51904381  1.23954821  1.23511073  0.87033292  1.13371176\n",
      "  0.62934866  1.43555202  1.14667131  1.49773695  1.65003117  1.37972292\n",
      "  0.71614396  1.32590711  1.49366766  1.53130574  0.93629542  1.51566946\n",
      "  1.92107987  1.69701568  1.60744744  1.90086747  1.66526095  2.11012822\n",
      "  1.95671672  2.09970371  1.08226315  1.57192164  1.59371471]\n"
     ]
    }
   ],
   "source": [
    "x_train = np.linspace(-1, 1, 101)\n",
    "y_train = 2 * x_train + np.random.randn(*x_train.shape) * 0.33\n",
    "\n",
    "print(y_train)"
   ]
  },
  {
   "cell_type": "code",
   "execution_count": 3,
   "metadata": {
    "collapsed": true
   },
   "outputs": [],
   "source": [
    "learning_rate = 0.1\n",
    "training_epochs = 100"
   ]
  },
  {
   "cell_type": "code",
   "execution_count": 4,
   "metadata": {
    "collapsed": true
   },
   "outputs": [],
   "source": [
    "X = tf.placeholder(\"float\")\n",
    "Y = tf.placeholder(\"float\")"
   ]
  },
  {
   "cell_type": "code",
   "execution_count": 5,
   "metadata": {
    "collapsed": true
   },
   "outputs": [],
   "source": [
    "cost_history = np.array([])"
   ]
  },
  {
   "cell_type": "code",
   "execution_count": 6,
   "metadata": {
    "collapsed": true
   },
   "outputs": [],
   "source": [
    "def model(X, w):\n",
    "    return tf.multiply(X, w)"
   ]
  },
  {
   "cell_type": "code",
   "execution_count": 8,
   "metadata": {},
   "outputs": [
    {
     "name": "stdout",
     "output_type": "stream",
     "text": [
      "[None None None ... None None None]\n"
     ]
    }
   ],
   "source": [
    "w = tf.Variable(0.0, name=\"weights\")\n",
    "\n",
    "y_model = model(X, w)\n",
    "loss = tf.reduce_mean(tf.square(Y - y_model))\n",
    "train_op = tf.train.GradientDescentOptimizer(learning_rate).minimize(loss)\n",
    "\n",
    "init = tf.global_variables_initializer()\n",
    "sess = tf.Session()\n",
    "sess.run(init)\n",
    "\n",
    "for epochs in range(training_epochs):\n",
    "    for (x, y) in zip(x_train, y_train):\n",
    "        cost_history = np.append(cost_history, sess.run(train_op, feed_dict={X: x, Y: y}))\n",
    "\n",
    "w_val = sess.run(w)\n",
    "\n",
    "print(cost_history)"
   ]
  },
  {
   "cell_type": "code",
   "execution_count": 9,
   "metadata": {},
   "outputs": [
    {
     "data": {
      "image/png": "[encoded data removed]",
      "text/plain": [
       "<matplotlib.figure.Figure at 0x196ca9c2748>"
      ]
     },
     "metadata": {},
     "output_type": "display_data"
    }
   ],
   "source": [
    "y_learned = x_train * w_val\n",
    "plt.plot(x_train, y_learned, 'r')\n",
    "plt.scatter(x_train, y_train)\n",
    "plt.show()"
   ]
  },
  {
   "cell_type": "code",
   "execution_count": null,
   "metadata": {
    "collapsed": true
   },
   "outputs": [],
   "source": []
  }
 ],
 "metadata": {
  "kernelspec": {
   "display_name": "Python 3",
   "language": "python",
   "name": "python3"
  },
  "language_info": {
   "codemirror_mode": {
    "name": "ipython",
    "version": 3
   },
   "file_extension": ".py",
   "mimetype": "text/x-python",
   "name": "python",
   "nbconvert_exporter": "python",
   "pygments_lexer": "ipython3",
   "version": "3.6.1"
  }
 },
 "nbformat": 4,
 "nbformat_minor": 2
}
